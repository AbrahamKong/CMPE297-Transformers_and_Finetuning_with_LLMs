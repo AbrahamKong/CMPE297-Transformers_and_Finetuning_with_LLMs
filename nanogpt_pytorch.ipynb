{
  "nbformat": 4,
  "nbformat_minor": 0,
  "metadata": {
    "colab": {
      "provenance": [],
      "machine_shape": "hm",
      "include_colab_link": true
    },
    "kernelspec": {
      "name": "python3",
      "display_name": "Python 3"
    },
    "language_info": {
      "name": "python"
    }
  },
  "cells": [
    {
      "cell_type": "markdown",
      "metadata": {
        "id": "view-in-github",
        "colab_type": "text"
      },
      "source": [
        "<a href=\"https://colab.research.google.com/github/AbrahamKong/CMPE297-Transformers_and_Finetuning_with_LLMs/blob/main/gpt_dev.ipynb\" target=\"_parent\"><img src=\"https://colab.research.google.com/assets/colab-badge.svg\" alt=\"Open In Colab\"/></a>"
      ]
    },
    {
      "cell_type": "markdown",
      "source": [
        "## Building a GPT\n",
        "\n",
        "Companion notebook to the [Zero To Hero](https://karpathy.ai/zero-to-hero.html) video on GPT."
      ],
      "metadata": {
        "id": "wJpXpmjEYC_T"
      }
    },
    {
      "cell_type": "code",
      "execution_count": 1,
      "metadata": {
        "colab": {
          "base_uri": "https://localhost:8080/"
        },
        "id": "h5hjCcLDr2WC",
        "outputId": "019acbfc-af4c-40ab-b1ac-b182fe7386f4"
      },
      "outputs": [
        {
          "output_type": "stream",
          "name": "stdout",
          "text": [
            "--2023-10-01 06:46:53--  https://raw.githubusercontent.com/AbrahamKong/CMPE297-Transformers_and_Finetuning_with_LLMs/main/data/input.txt\n",
            "Resolving raw.githubusercontent.com (raw.githubusercontent.com)... 185.199.108.133, 185.199.110.133, 185.199.109.133, ...\n",
            "Connecting to raw.githubusercontent.com (raw.githubusercontent.com)|185.199.108.133|:443... connected.\n",
            "HTTP request sent, awaiting response... 200 OK\n",
            "Length: 212532 (208K) [text/plain]\n",
            "Saving to: ‘input.txt’\n",
            "\n",
            "input.txt           100%[===================>] 207.55K  --.-KB/s    in 0.1s    \n",
            "\n",
            "2023-10-01 06:46:54 (1.65 MB/s) - ‘input.txt’ saved [212532/212532]\n",
            "\n"
          ]
        }
      ],
      "source": [
        "# We always start with a dataset to train on. Let's download the tiny shakespeare dataset\n",
        "!wget https://raw.githubusercontent.com/AbrahamKong/CMPE297-Transformers_and_Finetuning_with_LLMs/main/data/input.txt"
      ]
    },
    {
      "cell_type": "code",
      "source": [
        "# read it in to inspect it\n",
        "with open('input.txt', 'r', encoding=\"utf16\") as f:\n",
        "    text = f.read()"
      ],
      "metadata": {
        "id": "O6medjfRsLD9"
      },
      "execution_count": 10,
      "outputs": []
    },
    {
      "cell_type": "code",
      "source": [
        "print(\"length of dataset in characters: \", len(text))"
      ],
      "metadata": {
        "colab": {
          "base_uri": "https://localhost:8080/"
        },
        "id": "6xWI_VyAsN8F",
        "outputId": "5da5c4fe-da20-40e1-ca97-ef20b2994d3c"
      },
      "execution_count": 11,
      "outputs": [
        {
          "output_type": "stream",
          "name": "stdout",
          "text": [
            "length of dataset in characters:  102434\n"
          ]
        }
      ]
    },
    {
      "cell_type": "code",
      "source": [
        "# let's look at the first 1000 characters\n",
        "print(text[:1000])"
      ],
      "metadata": {
        "colab": {
          "base_uri": "https://localhost:8080/"
        },
        "id": "2c5V0FvqseE0",
        "outputId": "78745013-d0fc-43af-cb31-69cafc9f64f6"
      },
      "execution_count": 12,
      "outputs": [
        {
          "output_type": "stream",
          "name": "stdout",
          "text": [
            "< Shakespeare -- THE COMEDY OF ERRORS >\n",
            "< from Online Library of Liberty (http://oll.libertyfund.org) >\n",
            "< Unicode .txt version by Mike Scott (http://www.lexically.net) >\n",
            "< from \"The Complete Works of William Shakespeare\" >\n",
            "< ed. with a glossary by W.J. Craig M.A. >\n",
            "< (London: Oxford University Press, 1916) >\n",
            "<STAGE DIR>\n",
            "<Scene.—Ephesus.>\n",
            "</STAGE DIR>\n",
            "\n",
            "\n",
            "<ACT 1>\n",
            "\n",
            "\n",
            "<SCENE 1>\n",
            "<A Hall in the Duke's Palace.>\n",
            "<STAGE DIR>\n",
            "<Enter Duke, Ægeon, Gaoler, Officers, and other Attendants.>\n",
            "</STAGE DIR>\n",
            "<ÆGEON>\t<1%>\n",
            "\tProceed, Solinus, to procure my fall,\n",
            "\tAnd by the doom of death end woes and all.\n",
            "</ÆGEON>\n",
            "\n",
            "<DUKE>\t<1%>\n",
            "\tMerchant of Syracusa, plead no more.\n",
            "\tI am not partial to infringe our laws:\n",
            "\tThe enmity and discord which of late\n",
            "\tSprung from the rancorous outrage of your duke\n",
            "\tTo merchants, our well-dealing countrymen,\n",
            "\tWho, wanting guilders to redeem their lives,\n",
            "\tHave seal'd his rigorous statutes with their bloods,\n",
            "\tExcludes all pity from our threat'ning looks.\n",
            "\tFor, since the mortal and intestin\n"
          ]
        }
      ]
    },
    {
      "cell_type": "code",
      "source": [
        "# here are all the unique characters that occur in this text\n",
        "chars = sorted(list(set(text)))\n",
        "vocab_size = len(chars)\n",
        "print(''.join(chars))\n",
        "print(vocab_size)"
      ],
      "metadata": {
        "colab": {
          "base_uri": "https://localhost:8080/"
        },
        "id": "0e-Rbyr8sfM8",
        "outputId": "05e1b328-a605-4398-8a62-13ecd7dc165c"
      },
      "execution_count": 13,
      "outputs": [
        {
          "output_type": "stream",
          "name": "stdout",
          "text": [
            "\t\n",
            " !\"%'(),-./0123456789:;<>?ABCDEFGHIJKLMNOPQRSTUVWYZabcdefghijklmnopqrstuvwxyzÆæœ—\n",
            "83\n"
          ]
        }
      ]
    },
    {
      "cell_type": "code",
      "source": [
        "# create a mapping from characters to integers\n",
        "stoi = { ch:i for i,ch in enumerate(chars) }\n",
        "itos = { i:ch for i,ch in enumerate(chars) }\n",
        "encode = lambda s: [stoi[c] for c in s] # encoder: take a string, output a list of integers\n",
        "decode = lambda l: ''.join([itos[i] for i in l]) # decoder: take a list of integers, output a string\n",
        "\n",
        "print(encode(\"hii there\"))\n",
        "print(decode(encode(\"hii there\")))"
      ],
      "metadata": {
        "colab": {
          "base_uri": "https://localhost:8080/"
        },
        "id": "Yw1LKNCgwjj1",
        "outputId": "99ac5496-d4a7-48eb-83f4-bbfc8788c92e"
      },
      "execution_count": 14,
      "outputs": [
        {
          "output_type": "stream",
          "name": "stdout",
          "text": [
            "[60, 61, 61, 2, 72, 60, 57, 70, 57]\n",
            "hii there\n"
          ]
        }
      ]
    },
    {
      "cell_type": "code",
      "source": [
        "# let's now encode the entire text dataset and store it into a torch.Tensor\n",
        "import torch # we use PyTorch: https://pytorch.org\n",
        "data = torch.tensor(encode(text), dtype=torch.long)\n",
        "print(data.shape, data.dtype)\n",
        "print(data[:1000]) # the 1000 characters we looked at earier will to the GPT look like this"
      ],
      "metadata": {
        "colab": {
          "base_uri": "https://localhost:8080/"
        },
        "id": "YJb0OXPwzvqg",
        "outputId": "1c737402-4256-42ae-ce93-c946e7fa1859"
      },
      "execution_count": 15,
      "outputs": [
        {
          "output_type": "stream",
          "name": "stdout",
          "text": [
            "torch.Size([102434]) torch.int64\n",
            "tensor([25,  2, 46, 60, 53, 63, 57, 71, 68, 57, 53, 70, 57,  2, 10, 10,  2, 47,\n",
            "        35, 32,  2, 30, 42, 40, 32, 31, 51,  2, 42, 33,  2, 32, 45, 45, 42, 45,\n",
            "        46,  2, 26,  1, 25,  2, 58, 70, 67, 65,  2, 42, 66, 64, 61, 66, 57,  2,\n",
            "        39, 61, 54, 70, 53, 70, 77,  2, 67, 58,  2, 39, 61, 54, 57, 70, 72, 77,\n",
            "         2,  7, 60, 72, 72, 68, 23, 12, 12, 67, 64, 64, 11, 64, 61, 54, 57, 70,\n",
            "        72, 77, 58, 73, 66, 56, 11, 67, 70, 59,  8,  2, 26,  1, 25,  2, 48, 66,\n",
            "        61, 55, 67, 56, 57,  2, 11, 72, 76, 72,  2, 74, 57, 70, 71, 61, 67, 66,\n",
            "         2, 54, 77,  2, 40, 61, 63, 57,  2, 46, 55, 67, 72, 72,  2,  7, 60, 72,\n",
            "        72, 68, 23, 12, 12, 75, 75, 75, 11, 64, 57, 76, 61, 55, 53, 64, 64, 77,\n",
            "        11, 66, 57, 72,  8,  2, 26,  1, 25,  2, 58, 70, 67, 65,  2,  4, 47, 60,\n",
            "        57,  2, 30, 67, 65, 68, 64, 57, 72, 57,  2, 50, 67, 70, 63, 71,  2, 67,\n",
            "        58,  2, 50, 61, 64, 64, 61, 53, 65,  2, 46, 60, 53, 63, 57, 71, 68, 57,\n",
            "        53, 70, 57,  4,  2, 26,  1, 25,  2, 57, 56, 11,  2, 75, 61, 72, 60,  2,\n",
            "        53,  2, 59, 64, 67, 71, 71, 53, 70, 77,  2, 54, 77,  2, 50, 11, 37, 11,\n",
            "         2, 30, 70, 53, 61, 59,  2, 40, 11, 28, 11,  2, 26,  1, 25,  2,  7, 39,\n",
            "        67, 66, 56, 67, 66, 23,  2, 42, 76, 58, 67, 70, 56,  2, 48, 66, 61, 74,\n",
            "        57, 70, 71, 61, 72, 77,  2, 43, 70, 57, 71, 71,  9,  2, 14, 22, 14, 19,\n",
            "         8,  2, 26,  1, 25, 46, 47, 28, 34, 32,  2, 31, 36, 45, 26,  1, 25, 46,\n",
            "        55, 57, 66, 57, 11, 82, 32, 68, 60, 57, 71, 73, 71, 11, 26,  1, 25, 12,\n",
            "        46, 47, 28, 34, 32,  2, 31, 36, 45, 26,  1,  1,  1, 25, 28, 30, 47,  2,\n",
            "        14, 26,  1,  1,  1, 25, 46, 30, 32, 41, 32,  2, 14, 26,  1, 25, 28,  2,\n",
            "        35, 53, 64, 64,  2, 61, 66,  2, 72, 60, 57,  2, 31, 73, 63, 57,  6, 71,\n",
            "         2, 43, 53, 64, 53, 55, 57, 11, 26,  1, 25, 46, 47, 28, 34, 32,  2, 31,\n",
            "        36, 45, 26,  1, 25, 32, 66, 72, 57, 70,  2, 31, 73, 63, 57,  9,  2, 79,\n",
            "        59, 57, 67, 66,  9,  2, 34, 53, 67, 64, 57, 70,  9,  2, 42, 58, 58, 61,\n",
            "        55, 57, 70, 71,  9,  2, 53, 66, 56,  2, 67, 72, 60, 57, 70,  2, 28, 72,\n",
            "        72, 57, 66, 56, 53, 66, 72, 71, 11, 26,  1, 25, 12, 46, 47, 28, 34, 32,\n",
            "         2, 31, 36, 45, 26,  1, 25, 79, 34, 32, 42, 41, 26,  0, 25, 14,  5, 26,\n",
            "         1,  0, 43, 70, 67, 55, 57, 57, 56,  9,  2, 46, 67, 64, 61, 66, 73, 71,\n",
            "         9,  2, 72, 67,  2, 68, 70, 67, 55, 73, 70, 57,  2, 65, 77,  2, 58, 53,\n",
            "        64, 64,  9,  1,  0, 28, 66, 56,  2, 54, 77,  2, 72, 60, 57,  2, 56, 67,\n",
            "        67, 65,  2, 67, 58,  2, 56, 57, 53, 72, 60,  2, 57, 66, 56,  2, 75, 67,\n",
            "        57, 71,  2, 53, 66, 56,  2, 53, 64, 64, 11,  1, 25, 12, 79, 34, 32, 42,\n",
            "        41, 26,  1,  1, 25, 31, 48, 38, 32, 26,  0, 25, 14,  5, 26,  1,  0, 40,\n",
            "        57, 70, 55, 60, 53, 66, 72,  2, 67, 58,  2, 46, 77, 70, 53, 55, 73, 71,\n",
            "        53,  9,  2, 68, 64, 57, 53, 56,  2, 66, 67,  2, 65, 67, 70, 57, 11,  1,\n",
            "         0, 36,  2, 53, 65,  2, 66, 67, 72,  2, 68, 53, 70, 72, 61, 53, 64,  2,\n",
            "        72, 67,  2, 61, 66, 58, 70, 61, 66, 59, 57,  2, 67, 73, 70,  2, 64, 53,\n",
            "        75, 71, 23,  1,  0, 47, 60, 57,  2, 57, 66, 65, 61, 72, 77,  2, 53, 66,\n",
            "        56,  2, 56, 61, 71, 55, 67, 70, 56,  2, 75, 60, 61, 55, 60,  2, 67, 58,\n",
            "         2, 64, 53, 72, 57,  1,  0, 46, 68, 70, 73, 66, 59,  2, 58, 70, 67, 65,\n",
            "         2, 72, 60, 57,  2, 70, 53, 66, 55, 67, 70, 67, 73, 71,  2, 67, 73, 72,\n",
            "        70, 53, 59, 57,  2, 67, 58,  2, 77, 67, 73, 70,  2, 56, 73, 63, 57,  1,\n",
            "         0, 47, 67,  2, 65, 57, 70, 55, 60, 53, 66, 72, 71,  9,  2, 67, 73, 70,\n",
            "         2, 75, 57, 64, 64, 10, 56, 57, 53, 64, 61, 66, 59,  2, 55, 67, 73, 66,\n",
            "        72, 70, 77, 65, 57, 66,  9,  1,  0, 50, 60, 67,  9,  2, 75, 53, 66, 72,\n",
            "        61, 66, 59,  2, 59, 73, 61, 64, 56, 57, 70, 71,  2, 72, 67,  2, 70, 57,\n",
            "        56, 57, 57, 65,  2, 72, 60, 57, 61, 70,  2, 64, 61, 74, 57, 71,  9,  1,\n",
            "         0, 35, 53, 74, 57,  2, 71, 57, 53, 64,  6, 56,  2, 60, 61, 71,  2, 70,\n",
            "        61, 59, 67, 70, 67, 73, 71,  2, 71, 72, 53, 72, 73, 72, 57, 71,  2, 75,\n",
            "        61, 72, 60,  2, 72, 60, 57, 61, 70,  2, 54, 64, 67, 67, 56, 71,  9,  1,\n",
            "         0, 32, 76, 55, 64, 73, 56, 57, 71,  2, 53, 64, 64,  2, 68, 61, 72, 77,\n",
            "         2, 58, 70, 67, 65,  2, 67, 73, 70,  2, 72, 60, 70, 57, 53, 72,  6, 66,\n",
            "        61, 66, 59,  2, 64, 67, 67, 63, 71, 11,  1,  0, 33, 67, 70,  9,  2, 71,\n",
            "        61, 66, 55, 57,  2, 72, 60, 57,  2, 65, 67, 70, 72, 53, 64,  2, 53, 66,\n",
            "        56,  2, 61, 66, 72, 57, 71, 72, 61, 66])\n"
          ]
        }
      ]
    },
    {
      "cell_type": "code",
      "source": [
        "# Let's now split up the data into train and validation sets\n",
        "n = int(0.9*len(data)) # first 90% will be train, rest val\n",
        "train_data = data[:n]\n",
        "val_data = data[n:]"
      ],
      "metadata": {
        "id": "f_WIXqxz0lU5"
      },
      "execution_count": 16,
      "outputs": []
    },
    {
      "cell_type": "code",
      "source": [
        "block_size = 8\n",
        "train_data[:block_size+1]"
      ],
      "metadata": {
        "colab": {
          "base_uri": "https://localhost:8080/"
        },
        "id": "TD5Bj8Y6IAD4",
        "outputId": "c25faf15-c3c4-412c-9074-cbcaab6a303b"
      },
      "execution_count": 17,
      "outputs": [
        {
          "output_type": "execute_result",
          "data": {
            "text/plain": [
              "tensor([25,  2, 46, 60, 53, 63, 57, 71, 68])"
            ]
          },
          "metadata": {},
          "execution_count": 17
        }
      ]
    },
    {
      "cell_type": "code",
      "source": [
        "x = train_data[:block_size]\n",
        "y = train_data[1:block_size+1]\n",
        "for t in range(block_size):\n",
        "    context = x[:t+1]\n",
        "    target = y[t]\n",
        "    print(f\"when input is {context} the target: {target}\")"
      ],
      "metadata": {
        "colab": {
          "base_uri": "https://localhost:8080/"
        },
        "id": "9HXDe8vGJCEn",
        "outputId": "e45d7db6-db77-4ab2-d3cc-45988bbf802e"
      },
      "execution_count": 18,
      "outputs": [
        {
          "output_type": "stream",
          "name": "stdout",
          "text": [
            "when input is tensor([25]) the target: 2\n",
            "when input is tensor([25,  2]) the target: 46\n",
            "when input is tensor([25,  2, 46]) the target: 60\n",
            "when input is tensor([25,  2, 46, 60]) the target: 53\n",
            "when input is tensor([25,  2, 46, 60, 53]) the target: 63\n",
            "when input is tensor([25,  2, 46, 60, 53, 63]) the target: 57\n",
            "when input is tensor([25,  2, 46, 60, 53, 63, 57]) the target: 71\n",
            "when input is tensor([25,  2, 46, 60, 53, 63, 57, 71]) the target: 68\n"
          ]
        }
      ]
    },
    {
      "cell_type": "code",
      "source": [
        "torch.manual_seed(1337)\n",
        "batch_size = 4 # how many independent sequences will we process in parallel?\n",
        "block_size = 8 # what is the maximum context length for predictions?\n",
        "\n",
        "def get_batch(split):\n",
        "    # generate a small batch of data of inputs x and targets y\n",
        "    data = train_data if split == 'train' else val_data\n",
        "    ix = torch.randint(len(data) - block_size, (batch_size,))\n",
        "    x = torch.stack([data[i:i+block_size] for i in ix])\n",
        "    y = torch.stack([data[i+1:i+block_size+1] for i in ix])\n",
        "    return x, y\n",
        "\n",
        "xb, yb = get_batch('train')\n",
        "print('inputs:')\n",
        "print(xb.shape)\n",
        "print(xb)\n",
        "print('targets:')\n",
        "print(yb.shape)\n",
        "print(yb)\n",
        "\n",
        "print('----')\n",
        "\n",
        "for b in range(batch_size): # batch dimension\n",
        "    for t in range(block_size): # time dimension\n",
        "        context = xb[b, :t+1]\n",
        "        target = yb[b,t]\n",
        "        print(f\"when input is {context.tolist()} the target: {target}\")"
      ],
      "metadata": {
        "colab": {
          "base_uri": "https://localhost:8080/"
        },
        "id": "Q3k1Czf7LuA9",
        "outputId": "d59cc79e-4bf1-47f3-f423-b83e27a4aa1a"
      },
      "execution_count": 19,
      "outputs": [
        {
          "output_type": "stream",
          "name": "stdout",
          "text": [
            "inputs:\n",
            "torch.Size([4, 8])\n",
            "tensor([[65, 67, 71, 71, 24,  1,  0, 50],\n",
            "        [70,  9,  2, 64, 57, 71, 72,  2],\n",
            "        [66, 57,  2, 67, 75, 66,  2, 56],\n",
            "        [ 2, 65, 77,  2, 60, 73, 71, 54]])\n",
            "targets:\n",
            "torch.Size([4, 8])\n",
            "tensor([[67, 71, 71, 24,  1,  0, 50, 60],\n",
            "        [ 9,  2, 64, 57, 71, 72,  2, 36],\n",
            "        [57,  2, 67, 75, 66,  2, 56, 67],\n",
            "        [65, 77,  2, 60, 73, 71, 54, 53]])\n",
            "----\n",
            "when input is [65] the target: 67\n",
            "when input is [65, 67] the target: 71\n",
            "when input is [65, 67, 71] the target: 71\n",
            "when input is [65, 67, 71, 71] the target: 24\n",
            "when input is [65, 67, 71, 71, 24] the target: 1\n",
            "when input is [65, 67, 71, 71, 24, 1] the target: 0\n",
            "when input is [65, 67, 71, 71, 24, 1, 0] the target: 50\n",
            "when input is [65, 67, 71, 71, 24, 1, 0, 50] the target: 60\n",
            "when input is [70] the target: 9\n",
            "when input is [70, 9] the target: 2\n",
            "when input is [70, 9, 2] the target: 64\n",
            "when input is [70, 9, 2, 64] the target: 57\n",
            "when input is [70, 9, 2, 64, 57] the target: 71\n",
            "when input is [70, 9, 2, 64, 57, 71] the target: 72\n",
            "when input is [70, 9, 2, 64, 57, 71, 72] the target: 2\n",
            "when input is [70, 9, 2, 64, 57, 71, 72, 2] the target: 36\n",
            "when input is [66] the target: 57\n",
            "when input is [66, 57] the target: 2\n",
            "when input is [66, 57, 2] the target: 67\n",
            "when input is [66, 57, 2, 67] the target: 75\n",
            "when input is [66, 57, 2, 67, 75] the target: 66\n",
            "when input is [66, 57, 2, 67, 75, 66] the target: 2\n",
            "when input is [66, 57, 2, 67, 75, 66, 2] the target: 56\n",
            "when input is [66, 57, 2, 67, 75, 66, 2, 56] the target: 67\n",
            "when input is [2] the target: 65\n",
            "when input is [2, 65] the target: 77\n",
            "when input is [2, 65, 77] the target: 2\n",
            "when input is [2, 65, 77, 2] the target: 60\n",
            "when input is [2, 65, 77, 2, 60] the target: 73\n",
            "when input is [2, 65, 77, 2, 60, 73] the target: 71\n",
            "when input is [2, 65, 77, 2, 60, 73, 71] the target: 54\n",
            "when input is [2, 65, 77, 2, 60, 73, 71, 54] the target: 53\n"
          ]
        }
      ]
    },
    {
      "cell_type": "code",
      "source": [
        "print(xb) # our input to the transformer"
      ],
      "metadata": {
        "colab": {
          "base_uri": "https://localhost:8080/"
        },
        "id": "qpyyAeIzQjlO",
        "outputId": "6acb0d74-ab32-4543-aec9-e7259007a746"
      },
      "execution_count": 20,
      "outputs": [
        {
          "output_type": "stream",
          "name": "stdout",
          "text": [
            "tensor([[65, 67, 71, 71, 24,  1,  0, 50],\n",
            "        [70,  9,  2, 64, 57, 71, 72,  2],\n",
            "        [66, 57,  2, 67, 75, 66,  2, 56],\n",
            "        [ 2, 65, 77,  2, 60, 73, 71, 54]])\n"
          ]
        }
      ]
    },
    {
      "cell_type": "code",
      "source": [
        "import torch\n",
        "import torch.nn as nn\n",
        "from torch.nn import functional as F\n",
        "torch.manual_seed(1337)\n",
        "\n",
        "class BigramLanguageModel(nn.Module):\n",
        "\n",
        "    def __init__(self, vocab_size):\n",
        "        super().__init__()\n",
        "        # each token directly reads off the logits for the next token from a lookup table\n",
        "        self.token_embedding_table = nn.Embedding(vocab_size, vocab_size)\n",
        "\n",
        "    def forward(self, idx, targets=None):\n",
        "\n",
        "        # idx and targets are both (B,T) tensor of integers\n",
        "        logits = self.token_embedding_table(idx) # (B,T,C)\n",
        "\n",
        "        if targets is None:\n",
        "            loss = None\n",
        "        else:\n",
        "            B, T, C = logits.shape\n",
        "            logits = logits.view(B*T, C)\n",
        "            targets = targets.view(B*T)\n",
        "            loss = F.cross_entropy(logits, targets)\n",
        "\n",
        "        return logits, loss\n",
        "\n",
        "    def generate(self, idx, max_new_tokens):\n",
        "        # idx is (B, T) array of indices in the current context\n",
        "        for _ in range(max_new_tokens):\n",
        "            # get the predictions\n",
        "            logits, loss = self(idx)\n",
        "            # focus only on the last time step\n",
        "            logits = logits[:, -1, :] # becomes (B, C)\n",
        "            # apply softmax to get probabilities\n",
        "            probs = F.softmax(logits, dim=-1) # (B, C)\n",
        "            # sample from the distribution\n",
        "            idx_next = torch.multinomial(probs, num_samples=1) # (B, 1)\n",
        "            # append sampled index to the running sequence\n",
        "            idx = torch.cat((idx, idx_next), dim=1) # (B, T+1)\n",
        "        return idx\n",
        "\n",
        "m = BigramLanguageModel(vocab_size)\n",
        "logits, loss = m(xb, yb)\n",
        "print(logits.shape)\n",
        "print(loss)\n",
        "\n",
        "print(decode(m.generate(idx = torch.zeros((1, 1), dtype=torch.long), max_new_tokens=100)[0].tolist()))\n"
      ],
      "metadata": {
        "colab": {
          "base_uri": "https://localhost:8080/"
        },
        "id": "nql_1ER53oCf",
        "outputId": "c08442b4-c500-46d4-b58d-c47b1deab2ed"
      },
      "execution_count": 21,
      "outputs": [
        {
          "output_type": "stream",
          "name": "stdout",
          "text": [
            "torch.Size([32, 83])\n",
            "tensor(4.9026, grad_fn=<NllLossBackward0>)\n",
            "\t2293zH(K<' (0S-%'5ca\n",
            ">huWb!gN ?qob.nQCÆh<3%9MSœJ\tCxl;ees!OpCdg2vB)D7n8Qd—gd?F2O//<s 4Qimkifqt9ez%'GL\n"
          ]
        }
      ]
    },
    {
      "cell_type": "code",
      "source": [
        "# create a PyTorch optimizer\n",
        "optimizer = torch.optim.AdamW(m.parameters(), lr=1e-3)"
      ],
      "metadata": {
        "id": "eTyJ8qAaDdiF"
      },
      "execution_count": 22,
      "outputs": []
    },
    {
      "cell_type": "code",
      "source": [
        "batch_size = 32\n",
        "for steps in range(100): # increase number of steps for good results...\n",
        "\n",
        "    # sample a batch of data\n",
        "    xb, yb = get_batch('train')\n",
        "\n",
        "    # evaluate the loss\n",
        "    logits, loss = m(xb, yb)\n",
        "    optimizer.zero_grad(set_to_none=True)\n",
        "    loss.backward()\n",
        "    optimizer.step()\n",
        "\n",
        "print(loss.item())\n"
      ],
      "metadata": {
        "colab": {
          "base_uri": "https://localhost:8080/"
        },
        "id": "Hs4kI8YdEkQj",
        "outputId": "c297430d-6891-4c61-8fc7-23d99dea742a"
      },
      "execution_count": 23,
      "outputs": [
        {
          "output_type": "stream",
          "name": "stdout",
          "text": [
            "4.819447040557861\n"
          ]
        }
      ]
    },
    {
      "cell_type": "code",
      "source": [
        "print(decode(m.generate(idx = torch.zeros((1, 1), dtype=torch.long), max_new_tokens=500)[0].tolist()))"
      ],
      "metadata": {
        "colab": {
          "base_uri": "https://localhost:8080/"
        },
        "id": "EcVIDWAZEtjN",
        "outputId": "70b41570-7688-4b20-9c5c-2c362721d944"
      },
      "execution_count": 24,
      "outputs": [
        {
          "output_type": "stream",
          "name": "stdout",
          "text": [
            "\t'P\tQP4qœ) G:k)Fnk1kEoqAVIT(1kY627Cv\"evJY/ :USiAititm—Hdkplay(F!2A-l\"U(iL;6ZPyMF9iodBii8nH ewqjE7 NFqGLuu8ZF W>kj)D2LuYkt:)\n",
            "h ANBh!v.k)% JhSTG5e>0JT—uK53PI<94(UCTw\n",
            ">\tbdIg0mcxpKdoTS7\"xI\n",
            "i2œ/B!vB4logiWK,æv\"3NœAM5UHo4w0\n",
            "hySEhLi.i%i>\tiS706:5p.WÆmkqpAOd:3—yk4KBWGWlÆQHzoHL99k)lFgKAOCpRP(FdpFi)N>e 5EFtU\tWhOk\t8uOS)F,rOæRn'ke8b.—?U—Ezb(L'a\ttykCmju(\n",
            "SbUS%<N'!0Tg5sHO'PBvyæqj\n",
            "J\t3;YhBgœh,(UGv1BGD27NNIKTIp\n",
            "JWÆm6Ju6JE1æ—I:K<wG62RæqTrRæOrnCpc>—/BFDM3S-Lw,HoGpw'8T3slo3G.kq62pæ8uy-dJ1kq<N!/nP0JtUku sGUA1J,t4o:c:P\n",
            "\n"
          ]
        }
      ]
    },
    {
      "cell_type": "markdown",
      "source": [
        "## The mathematical trick in self-attention"
      ],
      "metadata": {
        "id": "XinV8nmAnmKN"
      }
    },
    {
      "cell_type": "code",
      "source": [
        "# toy example illustrating how matrix multiplication can be used for a \"weighted aggregation\"\n",
        "torch.manual_seed(42)\n",
        "a = torch.tril(torch.ones(3, 3))\n",
        "a = a / torch.sum(a, 1, keepdim=True)\n",
        "b = torch.randint(0,10,(3,2)).float()\n",
        "c = a @ b\n",
        "print('a=')\n",
        "print(a)\n",
        "print('--')\n",
        "print('b=')\n",
        "print(b)\n",
        "print('--')\n",
        "print('c=')\n",
        "print(c)"
      ],
      "metadata": {
        "colab": {
          "base_uri": "https://localhost:8080/"
        },
        "id": "tukiH-NbRBhA",
        "outputId": "f4078489-7676-4295-8be3-a79dca14af87"
      },
      "execution_count": 25,
      "outputs": [
        {
          "output_type": "stream",
          "name": "stdout",
          "text": [
            "a=\n",
            "tensor([[1.0000, 0.0000, 0.0000],\n",
            "        [0.5000, 0.5000, 0.0000],\n",
            "        [0.3333, 0.3333, 0.3333]])\n",
            "--\n",
            "b=\n",
            "tensor([[2., 7.],\n",
            "        [6., 4.],\n",
            "        [6., 5.]])\n",
            "--\n",
            "c=\n",
            "tensor([[2.0000, 7.0000],\n",
            "        [4.0000, 5.5000],\n",
            "        [4.6667, 5.3333]])\n"
          ]
        }
      ]
    },
    {
      "cell_type": "code",
      "source": [
        "# consider the following toy example:\n",
        "\n",
        "torch.manual_seed(1337)\n",
        "B,T,C = 4,8,2 # batch, time, channels\n",
        "x = torch.randn(B,T,C)\n",
        "x.shape"
      ],
      "metadata": {
        "colab": {
          "base_uri": "https://localhost:8080/"
        },
        "id": "Hs_E24uRE8kr",
        "outputId": "374925d2-9d91-4bac-f80f-e522d35ff437"
      },
      "execution_count": 26,
      "outputs": [
        {
          "output_type": "execute_result",
          "data": {
            "text/plain": [
              "torch.Size([4, 8, 2])"
            ]
          },
          "metadata": {},
          "execution_count": 26
        }
      ]
    },
    {
      "cell_type": "code",
      "source": [
        "# We want x[b,t] = mean_{i<=t} x[b,i]\n",
        "xbow = torch.zeros((B,T,C))\n",
        "for b in range(B):\n",
        "    for t in range(T):\n",
        "        xprev = x[b,:t+1] # (t,C)\n",
        "        xbow[b,t] = torch.mean(xprev, 0)\n"
      ],
      "metadata": {
        "id": "86NuXX0fn7ps"
      },
      "execution_count": 27,
      "outputs": []
    },
    {
      "cell_type": "code",
      "source": [
        "# version 2: using matrix multiply for a weighted aggregation\n",
        "wei = torch.tril(torch.ones(T, T))\n",
        "wei = wei / wei.sum(1, keepdim=True)\n",
        "xbow2 = wei @ x # (B, T, T) @ (B, T, C) ----> (B, T, C)\n",
        "torch.allclose(xbow, xbow2)"
      ],
      "metadata": {
        "colab": {
          "base_uri": "https://localhost:8080/"
        },
        "id": "yhdOAd6-wXkZ",
        "outputId": "3c5d1331-955a-49bc-f242-b57a009a7411"
      },
      "execution_count": 28,
      "outputs": [
        {
          "output_type": "execute_result",
          "data": {
            "text/plain": [
              "True"
            ]
          },
          "metadata": {},
          "execution_count": 28
        }
      ]
    },
    {
      "cell_type": "code",
      "source": [
        "# version 3: use Softmax\n",
        "tril = torch.tril(torch.ones(T, T))\n",
        "wei = torch.zeros((T,T))\n",
        "wei = wei.masked_fill(tril == 0, float('-inf'))\n",
        "wei = F.softmax(wei, dim=-1)\n",
        "xbow3 = wei @ x\n",
        "torch.allclose(xbow, xbow3)\n"
      ],
      "metadata": {
        "colab": {
          "base_uri": "https://localhost:8080/"
        },
        "id": "wOURrfG-ysoL",
        "outputId": "0dda154d-ab76-4a48-a3a6-36ded17340e7"
      },
      "execution_count": 29,
      "outputs": [
        {
          "output_type": "execute_result",
          "data": {
            "text/plain": [
              "True"
            ]
          },
          "metadata": {},
          "execution_count": 29
        }
      ]
    },
    {
      "cell_type": "code",
      "source": [
        "# version 4: self-attention!\n",
        "torch.manual_seed(1337)\n",
        "B,T,C = 4,8,32 # batch, time, channels\n",
        "x = torch.randn(B,T,C)\n",
        "\n",
        "# let's see a single Head perform self-attention\n",
        "head_size = 16\n",
        "key = nn.Linear(C, head_size, bias=False)\n",
        "query = nn.Linear(C, head_size, bias=False)\n",
        "value = nn.Linear(C, head_size, bias=False)\n",
        "k = key(x)   # (B, T, 16)\n",
        "q = query(x) # (B, T, 16)\n",
        "wei =  q @ k.transpose(-2, -1) # (B, T, 16) @ (B, 16, T) ---> (B, T, T)\n",
        "\n",
        "tril = torch.tril(torch.ones(T, T))\n",
        "#wei = torch.zeros((T,T))\n",
        "wei = wei.masked_fill(tril == 0, float('-inf'))\n",
        "wei = F.softmax(wei, dim=-1)\n",
        "\n",
        "v = value(x)\n",
        "out = wei @ v\n",
        "#out = wei @ x\n",
        "\n",
        "out.shape"
      ],
      "metadata": {
        "colab": {
          "base_uri": "https://localhost:8080/"
        },
        "id": "EDarxEWIRMKq",
        "outputId": "0da3b18f-5590-4c54-e013-ead283a37c68"
      },
      "execution_count": 30,
      "outputs": [
        {
          "output_type": "execute_result",
          "data": {
            "text/plain": [
              "torch.Size([4, 8, 16])"
            ]
          },
          "metadata": {},
          "execution_count": 30
        }
      ]
    },
    {
      "cell_type": "code",
      "source": [
        "wei[0]"
      ],
      "metadata": {
        "colab": {
          "base_uri": "https://localhost:8080/"
        },
        "id": "vT1hdtzXCjgL",
        "outputId": "8cf6ea9e-37ac-4e52-b60d-5664cab080b0"
      },
      "execution_count": 31,
      "outputs": [
        {
          "output_type": "execute_result",
          "data": {
            "text/plain": [
              "tensor([[1.0000, 0.0000, 0.0000, 0.0000, 0.0000, 0.0000, 0.0000, 0.0000],\n",
              "        [0.1574, 0.8426, 0.0000, 0.0000, 0.0000, 0.0000, 0.0000, 0.0000],\n",
              "        [0.2088, 0.1646, 0.6266, 0.0000, 0.0000, 0.0000, 0.0000, 0.0000],\n",
              "        [0.5792, 0.1187, 0.1889, 0.1131, 0.0000, 0.0000, 0.0000, 0.0000],\n",
              "        [0.0294, 0.1052, 0.0469, 0.0276, 0.7909, 0.0000, 0.0000, 0.0000],\n",
              "        [0.0176, 0.2689, 0.0215, 0.0089, 0.6812, 0.0019, 0.0000, 0.0000],\n",
              "        [0.1691, 0.4066, 0.0438, 0.0416, 0.1048, 0.2012, 0.0329, 0.0000],\n",
              "        [0.0210, 0.0843, 0.0555, 0.2297, 0.0573, 0.0709, 0.2423, 0.2391]],\n",
              "       grad_fn=<SelectBackward0>)"
            ]
          },
          "metadata": {},
          "execution_count": 31
        }
      ]
    },
    {
      "cell_type": "markdown",
      "source": [
        "Notes:\n",
        "- Attention is a **communication mechanism**. Can be seen as nodes in a directed graph looking at each other and aggregating information with a weighted sum from all nodes that point to them, with data-dependent weights.\n",
        "- There is no notion of space. Attention simply acts over a set of vectors. This is why we need to positionally encode tokens.\n",
        "- Each example across batch dimension is of course processed completely independently and never \"talk\" to each other\n",
        "- In an \"encoder\" attention block just delete the single line that does masking with `tril`, allowing all tokens to communicate. This block here is called a \"decoder\" attention block because it has triangular masking, and is usually used in autoregressive settings, like language modeling.\n",
        "- \"self-attention\" just means that the keys and values are produced from the same source as queries. In \"cross-attention\", the queries still get produced from x, but the keys and values come from some other, external source (e.g. an encoder module)\n",
        "- \"Scaled\" attention additional divides `wei` by 1/sqrt(head_size). This makes it so when input Q,K are unit variance, wei will be unit variance too and Softmax will stay diffuse and not saturate too much. Illustration below"
      ],
      "metadata": {
        "id": "M5CvobiQ0pLr"
      }
    },
    {
      "cell_type": "code",
      "source": [
        "k = torch.randn(B,T,head_size)\n",
        "q = torch.randn(B,T,head_size)\n",
        "wei = q @ k.transpose(-2, -1) * head_size**-0.5"
      ],
      "metadata": {
        "id": "4SNbLq5z3oBw"
      },
      "execution_count": 32,
      "outputs": []
    },
    {
      "cell_type": "code",
      "source": [
        "k.var()"
      ],
      "metadata": {
        "colab": {
          "base_uri": "https://localhost:8080/"
        },
        "id": "Nl6I9n9IRTSo",
        "outputId": "f3d47cef-a821-44ec-bcb5-b6f53bfdea6e"
      },
      "execution_count": 33,
      "outputs": [
        {
          "output_type": "execute_result",
          "data": {
            "text/plain": [
              "tensor(1.0449)"
            ]
          },
          "metadata": {},
          "execution_count": 33
        }
      ]
    },
    {
      "cell_type": "code",
      "source": [
        "q.var()"
      ],
      "metadata": {
        "colab": {
          "base_uri": "https://localhost:8080/"
        },
        "id": "T1tQx7oeRvtc",
        "outputId": "ece8f448-be5e-4572-f32c-932138780857"
      },
      "execution_count": 34,
      "outputs": [
        {
          "output_type": "execute_result",
          "data": {
            "text/plain": [
              "tensor(1.0700)"
            ]
          },
          "metadata": {},
          "execution_count": 34
        }
      ]
    },
    {
      "cell_type": "code",
      "source": [
        "wei.var()"
      ],
      "metadata": {
        "colab": {
          "base_uri": "https://localhost:8080/"
        },
        "id": "MLb_odHU3iKM",
        "outputId": "539d8647-530b-4837-982e-97faa0bedfac"
      },
      "execution_count": 35,
      "outputs": [
        {
          "output_type": "execute_result",
          "data": {
            "text/plain": [
              "tensor(1.0918)"
            ]
          },
          "metadata": {},
          "execution_count": 35
        }
      ]
    },
    {
      "cell_type": "code",
      "source": [
        "torch.softmax(torch.tensor([0.1, -0.2, 0.3, -0.2, 0.5]), dim=-1)"
      ],
      "metadata": {
        "colab": {
          "base_uri": "https://localhost:8080/"
        },
        "id": "JB82yzt44REI",
        "outputId": "356e153d-435f-43aa-d2ae-76808137869b"
      },
      "execution_count": 36,
      "outputs": [
        {
          "output_type": "execute_result",
          "data": {
            "text/plain": [
              "tensor([0.1925, 0.1426, 0.2351, 0.1426, 0.2872])"
            ]
          },
          "metadata": {},
          "execution_count": 36
        }
      ]
    },
    {
      "cell_type": "code",
      "source": [
        "torch.softmax(torch.tensor([0.1, -0.2, 0.3, -0.2, 0.5])*8, dim=-1) # gets too peaky, converges to one-hot"
      ],
      "metadata": {
        "colab": {
          "base_uri": "https://localhost:8080/"
        },
        "id": "Mpt8569BB9_f",
        "outputId": "cca18a07-b1e1-42da-8c6f-91d22d229736"
      },
      "execution_count": 37,
      "outputs": [
        {
          "output_type": "execute_result",
          "data": {
            "text/plain": [
              "tensor([0.0326, 0.0030, 0.1615, 0.0030, 0.8000])"
            ]
          },
          "metadata": {},
          "execution_count": 37
        }
      ]
    },
    {
      "cell_type": "code",
      "source": [
        "class LayerNorm1d: # (used to be BatchNorm1d)\n",
        "\n",
        "  def __init__(self, dim, eps=1e-5, momentum=0.1):\n",
        "    self.eps = eps\n",
        "    self.gamma = torch.ones(dim)\n",
        "    self.beta = torch.zeros(dim)\n",
        "\n",
        "  def __call__(self, x):\n",
        "    # calculate the forward pass\n",
        "    xmean = x.mean(1, keepdim=True) # batch mean\n",
        "    xvar = x.var(1, keepdim=True) # batch variance\n",
        "    xhat = (x - xmean) / torch.sqrt(xvar + self.eps) # normalize to unit variance\n",
        "    self.out = self.gamma * xhat + self.beta\n",
        "    return self.out\n",
        "\n",
        "  def parameters(self):\n",
        "    return [self.gamma, self.beta]\n",
        "\n",
        "torch.manual_seed(1337)\n",
        "module = LayerNorm1d(100)\n",
        "x = torch.randn(32, 100) # batch size 32 of 100-dimensional vectors\n",
        "x = module(x)\n",
        "x.shape"
      ],
      "metadata": {
        "colab": {
          "base_uri": "https://localhost:8080/"
        },
        "id": "2Num7sX9CKOH",
        "outputId": "b058a90f-ef48-4eda-d38a-0cb7b69244ef"
      },
      "execution_count": 38,
      "outputs": [
        {
          "output_type": "execute_result",
          "data": {
            "text/plain": [
              "torch.Size([32, 100])"
            ]
          },
          "metadata": {},
          "execution_count": 38
        }
      ]
    },
    {
      "cell_type": "code",
      "source": [
        "x[:,0].mean(), x[:,0].std() # mean,std of one feature across all batch inputs"
      ],
      "metadata": {
        "colab": {
          "base_uri": "https://localhost:8080/"
        },
        "id": "633T2cmnW1uk",
        "outputId": "f458b023-9b8a-43df-cb7a-b811c5e78f06"
      },
      "execution_count": 39,
      "outputs": [
        {
          "output_type": "execute_result",
          "data": {
            "text/plain": [
              "(tensor(0.1469), tensor(0.8803))"
            ]
          },
          "metadata": {},
          "execution_count": 39
        }
      ]
    },
    {
      "cell_type": "code",
      "source": [
        "x[0,:].mean(), x[0,:].std() # mean,std of a single input from the batch, of its features"
      ],
      "metadata": {
        "colab": {
          "base_uri": "https://localhost:8080/"
        },
        "id": "LN9cK9BoXCYb",
        "outputId": "7ae23fe3-8032-45b0-8189-33c2f9ddd7b2"
      },
      "execution_count": 40,
      "outputs": [
        {
          "output_type": "execute_result",
          "data": {
            "text/plain": [
              "(tensor(-9.5367e-09), tensor(1.0000))"
            ]
          },
          "metadata": {},
          "execution_count": 40
        }
      ]
    },
    {
      "cell_type": "code",
      "source": [
        "# French to English translation example:\n",
        "\n",
        "# <--------- ENCODE ------------------><--------------- DECODE ----------------->\n",
        "# les réseaux de neurones sont géniaux! <START> neural networks are awesome!<END>\n",
        "\n"
      ],
      "metadata": {
        "id": "dRJH6wM_XFfU"
      },
      "execution_count": 41,
      "outputs": []
    },
    {
      "cell_type": "markdown",
      "source": [
        "### Full finished code, for reference\n",
        "\n",
        "You may want to refer directly to the git repo instead though."
      ],
      "metadata": {
        "id": "ZcvKeBXoZFOY"
      }
    },
    {
      "cell_type": "code",
      "source": [
        "import torch\n",
        "import torch.nn as nn\n",
        "from torch.nn import functional as F\n",
        "\n",
        "# hyperparameters\n",
        "batch_size = 16 # how many independent sequences will we process in parallel?\n",
        "block_size = 32 # what is the maximum context length for predictions?\n",
        "max_iters = 5000\n",
        "eval_interval = 100\n",
        "learning_rate = 1e-3\n",
        "device = 'cuda' if torch.cuda.is_available() else 'cpu'\n",
        "eval_iters = 200\n",
        "n_embd = 64\n",
        "n_head = 4\n",
        "n_layer = 4\n",
        "dropout = 0.0\n",
        "# ------------\n",
        "\n",
        "torch.manual_seed(1337)\n",
        "\n",
        "# wget https://raw.githubusercontent.com/AbrahamKong/CMPE297-Transformers_and_Finetuning_with_LLMs/main/data/input.txt\n",
        "with open('input.txt', 'r', encoding='utf-16') as f:\n",
        "    text = f.read()\n",
        "\n",
        "# here are all the unique characters that occur in this text\n",
        "chars = sorted(list(set(text)))\n",
        "vocab_size = len(chars)\n",
        "# create a mapping from characters to integers\n",
        "stoi = { ch:i for i,ch in enumerate(chars) }\n",
        "itos = { i:ch for i,ch in enumerate(chars) }\n",
        "encode = lambda s: [stoi[c] for c in s] # encoder: take a string, output a list of integers\n",
        "decode = lambda l: ''.join([itos[i] for i in l]) # decoder: take a list of integers, output a string\n",
        "\n",
        "# Train and test splits\n",
        "data = torch.tensor(encode(text), dtype=torch.long)\n",
        "n = int(0.9*len(data)) # first 90% will be train, rest val\n",
        "train_data = data[:n]\n",
        "val_data = data[n:]\n",
        "\n",
        "# data loading\n",
        "def get_batch(split):\n",
        "    # generate a small batch of data of inputs x and targets y\n",
        "    data = train_data if split == 'train' else val_data\n",
        "    ix = torch.randint(len(data) - block_size, (batch_size,))\n",
        "    x = torch.stack([data[i:i+block_size] for i in ix])\n",
        "    y = torch.stack([data[i+1:i+block_size+1] for i in ix])\n",
        "    x, y = x.to(device), y.to(device)\n",
        "    return x, y\n",
        "\n",
        "@torch.no_grad()\n",
        "def estimate_loss():\n",
        "    out = {}\n",
        "    model.eval()\n",
        "    for split in ['train', 'val']:\n",
        "        losses = torch.zeros(eval_iters)\n",
        "        for k in range(eval_iters):\n",
        "            X, Y = get_batch(split)\n",
        "            logits, loss = model(X, Y)\n",
        "            losses[k] = loss.item()\n",
        "        out[split] = losses.mean()\n",
        "    model.train()\n",
        "    return out\n",
        "\n",
        "class Head(nn.Module):\n",
        "    \"\"\" one head of self-attention \"\"\"\n",
        "\n",
        "    def __init__(self, head_size):\n",
        "        super().__init__()\n",
        "        self.key = nn.Linear(n_embd, head_size, bias=False)\n",
        "        self.query = nn.Linear(n_embd, head_size, bias=False)\n",
        "        self.value = nn.Linear(n_embd, head_size, bias=False)\n",
        "        self.register_buffer('tril', torch.tril(torch.ones(block_size, block_size)))\n",
        "\n",
        "        self.dropout = nn.Dropout(dropout)\n",
        "\n",
        "    def forward(self, x):\n",
        "        B,T,C = x.shape\n",
        "        k = self.key(x)   # (B,T,C)\n",
        "        q = self.query(x) # (B,T,C)\n",
        "        # compute attention scores (\"affinities\")\n",
        "        wei = q @ k.transpose(-2,-1) * C**-0.5 # (B, T, C) @ (B, C, T) -> (B, T, T)\n",
        "        wei = wei.masked_fill(self.tril[:T, :T] == 0, float('-inf')) # (B, T, T)\n",
        "        wei = F.softmax(wei, dim=-1) # (B, T, T)\n",
        "        wei = self.dropout(wei)\n",
        "        # perform the weighted aggregation of the values\n",
        "        v = self.value(x) # (B,T,C)\n",
        "        out = wei @ v # (B, T, T) @ (B, T, C) -> (B, T, C)\n",
        "        return out\n",
        "\n",
        "class MultiHeadAttention(nn.Module):\n",
        "    \"\"\" multiple heads of self-attention in parallel \"\"\"\n",
        "\n",
        "    def __init__(self, num_heads, head_size):\n",
        "        super().__init__()\n",
        "        self.heads = nn.ModuleList([Head(head_size) for _ in range(num_heads)])\n",
        "        self.proj = nn.Linear(n_embd, n_embd)\n",
        "        self.dropout = nn.Dropout(dropout)\n",
        "\n",
        "    def forward(self, x):\n",
        "        out = torch.cat([h(x) for h in self.heads], dim=-1)\n",
        "        out = self.dropout(self.proj(out))\n",
        "        return out\n",
        "\n",
        "class FeedFoward(nn.Module):\n",
        "    \"\"\" a simple linear layer followed by a non-linearity \"\"\"\n",
        "\n",
        "    def __init__(self, n_embd):\n",
        "        super().__init__()\n",
        "        self.net = nn.Sequential(\n",
        "            nn.Linear(n_embd, 4 * n_embd),\n",
        "            nn.ReLU(),\n",
        "            nn.Linear(4 * n_embd, n_embd),\n",
        "            nn.Dropout(dropout),\n",
        "        )\n",
        "\n",
        "    def forward(self, x):\n",
        "        return self.net(x)\n",
        "\n",
        "class Block(nn.Module):\n",
        "    \"\"\" Transformer block: communication followed by computation \"\"\"\n",
        "\n",
        "    def __init__(self, n_embd, n_head):\n",
        "        # n_embd: embedding dimension, n_head: the number of heads we'd like\n",
        "        super().__init__()\n",
        "        head_size = n_embd // n_head\n",
        "        self.sa = MultiHeadAttention(n_head, head_size)\n",
        "        self.ffwd = FeedFoward(n_embd)\n",
        "        self.ln1 = nn.LayerNorm(n_embd)\n",
        "        self.ln2 = nn.LayerNorm(n_embd)\n",
        "\n",
        "    def forward(self, x):\n",
        "        x = x + self.sa(self.ln1(x))\n",
        "        x = x + self.ffwd(self.ln2(x))\n",
        "        return x\n",
        "\n",
        "# super simple bigram model\n",
        "class BigramLanguageModel(nn.Module):\n",
        "\n",
        "    def __init__(self):\n",
        "        super().__init__()\n",
        "        # each token directly reads off the logits for the next token from a lookup table\n",
        "        self.token_embedding_table = nn.Embedding(vocab_size, n_embd)\n",
        "        self.position_embedding_table = nn.Embedding(block_size, n_embd)\n",
        "        self.blocks = nn.Sequential(*[Block(n_embd, n_head=n_head) for _ in range(n_layer)])\n",
        "        self.ln_f = nn.LayerNorm(n_embd) # final layer norm\n",
        "        self.lm_head = nn.Linear(n_embd, vocab_size)\n",
        "\n",
        "    def forward(self, idx, targets=None):\n",
        "        B, T = idx.shape\n",
        "\n",
        "        # idx and targets are both (B,T) tensor of integers\n",
        "        tok_emb = self.token_embedding_table(idx) # (B,T,C)\n",
        "        pos_emb = self.position_embedding_table(torch.arange(T, device=device)) # (T,C)\n",
        "        x = tok_emb + pos_emb # (B,T,C)\n",
        "        x = self.blocks(x) # (B,T,C)\n",
        "        x = self.ln_f(x) # (B,T,C)\n",
        "        logits = self.lm_head(x) # (B,T,vocab_size)\n",
        "\n",
        "        if targets is None:\n",
        "            loss = None\n",
        "        else:\n",
        "            B, T, C = logits.shape\n",
        "            logits = logits.view(B*T, C)\n",
        "            targets = targets.view(B*T)\n",
        "            loss = F.cross_entropy(logits, targets)\n",
        "\n",
        "        return logits, loss\n",
        "\n",
        "    def generate(self, idx, max_new_tokens):\n",
        "        # idx is (B, T) array of indices in the current context\n",
        "        for _ in range(max_new_tokens):\n",
        "            # crop idx to the last block_size tokens\n",
        "            idx_cond = idx[:, -block_size:]\n",
        "            # get the predictions\n",
        "            logits, loss = self(idx_cond)\n",
        "            # focus only on the last time step\n",
        "            logits = logits[:, -1, :] # becomes (B, C)\n",
        "            # apply softmax to get probabilities\n",
        "            probs = F.softmax(logits, dim=-1) # (B, C)\n",
        "            # sample from the distribution\n",
        "            idx_next = torch.multinomial(probs, num_samples=1) # (B, 1)\n",
        "            # append sampled index to the running sequence\n",
        "            idx = torch.cat((idx, idx_next), dim=1) # (B, T+1)\n",
        "        return idx\n",
        "\n",
        "model = BigramLanguageModel()\n",
        "m = model.to(device)\n",
        "# print the number of parameters in the model\n",
        "print(sum(p.numel() for p in m.parameters())/1e6, 'M parameters')\n",
        "\n",
        "# create a PyTorch optimizer\n",
        "optimizer = torch.optim.AdamW(model.parameters(), lr=learning_rate)\n",
        "\n",
        "for iter in range(max_iters):\n",
        "\n",
        "    # every once in a while evaluate the loss on train and val sets\n",
        "    if iter % eval_interval == 0 or iter == max_iters - 1:\n",
        "        losses = estimate_loss()\n",
        "        print(f\"step {iter}: train loss {losses['train']:.4f}, val loss {losses['val']:.4f}\")\n",
        "\n",
        "    # sample a batch of data\n",
        "    xb, yb = get_batch('train')\n",
        "\n",
        "    # evaluate the loss\n",
        "    logits, loss = model(xb, yb)\n",
        "    optimizer.zero_grad(set_to_none=True)\n",
        "    loss.backward()\n",
        "    optimizer.step()\n",
        "\n",
        "# generate from the model\n",
        "context = torch.zeros((1, 1), dtype=torch.long, device=device)\n",
        "print(decode(m.generate(context, max_new_tokens=2000)[0].tolist()))\n"
      ],
      "metadata": {
        "colab": {
          "base_uri": "https://localhost:8080/"
        },
        "id": "hoelkOrFY8bN",
        "outputId": "d6c95ce8-c6a7-4a92-e57b-0f4f3a089bed"
      },
      "execution_count": 43,
      "outputs": [
        {
          "output_type": "stream",
          "name": "stdout",
          "text": [
            "0.212051 M parameters\n",
            "step 0: train loss 4.5405, val loss 4.5455\n",
            "step 100: train loss 2.3916, val loss 2.4217\n",
            "step 200: train loss 2.1523, val loss 2.1702\n",
            "step 300: train loss 1.9881, val loss 1.9914\n",
            "step 400: train loss 1.9067, val loss 1.9388\n",
            "step 500: train loss 1.8475, val loss 1.8401\n",
            "step 600: train loss 1.7997, val loss 1.8184\n",
            "step 700: train loss 1.7539, val loss 1.7609\n",
            "step 800: train loss 1.7397, val loss 1.7513\n",
            "step 900: train loss 1.6946, val loss 1.6809\n",
            "step 1000: train loss 1.6691, val loss 1.6757\n",
            "step 1100: train loss 1.6374, val loss 1.6247\n",
            "step 1200: train loss 1.5808, val loss 1.6141\n",
            "step 1300: train loss 1.5754, val loss 1.5974\n",
            "step 1400: train loss 1.5593, val loss 1.5833\n",
            "step 1500: train loss 1.5410, val loss 1.5693\n",
            "step 1600: train loss 1.5075, val loss 1.5372\n",
            "step 1700: train loss 1.4899, val loss 1.5134\n",
            "step 1800: train loss 1.4762, val loss 1.5319\n",
            "step 1900: train loss 1.4497, val loss 1.4872\n",
            "step 2000: train loss 1.4647, val loss 1.5029\n",
            "step 2100: train loss 1.4277, val loss 1.4900\n",
            "step 2200: train loss 1.4082, val loss 1.4897\n",
            "step 2300: train loss 1.3886, val loss 1.4601\n",
            "step 2400: train loss 1.3852, val loss 1.4615\n",
            "step 2500: train loss 1.3608, val loss 1.4705\n",
            "step 2600: train loss 1.3718, val loss 1.4687\n",
            "step 2700: train loss 1.3563, val loss 1.4593\n",
            "step 2800: train loss 1.3544, val loss 1.4382\n",
            "step 2900: train loss 1.3328, val loss 1.4596\n",
            "step 3000: train loss 1.3121, val loss 1.4514\n",
            "step 3100: train loss 1.3285, val loss 1.4298\n",
            "step 3200: train loss 1.3261, val loss 1.4448\n",
            "step 3300: train loss 1.2810, val loss 1.4294\n",
            "step 3400: train loss 1.2806, val loss 1.4228\n",
            "step 3500: train loss 1.2931, val loss 1.4416\n",
            "step 3600: train loss 1.2847, val loss 1.4329\n",
            "step 3700: train loss 1.2603, val loss 1.4167\n",
            "step 3800: train loss 1.2622, val loss 1.4130\n",
            "step 3900: train loss 1.2434, val loss 1.4321\n",
            "step 4000: train loss 1.2527, val loss 1.4336\n",
            "step 4100: train loss 1.2531, val loss 1.4000\n",
            "step 4200: train loss 1.2180, val loss 1.4204\n",
            "step 4300: train loss 1.2292, val loss 1.4433\n",
            "step 4400: train loss 1.2235, val loss 1.4267\n",
            "step 4500: train loss 1.2256, val loss 1.4357\n",
            "step 4600: train loss 1.2051, val loss 1.4011\n",
            "step 4700: train loss 1.2077, val loss 1.4196\n",
            "step 4800: train loss 1.1877, val loss 1.4055\n",
            "step 4900: train loss 1.1987, val loss 1.4511\n",
            "step 4999: train loss 1.2048, val loss 1.4391\n",
            "\tFil'd me, thou know in bridgest, unmaders;\n",
            "\tDhy well meanture hear.fine main\n",
            "\tNay, or he come?\n",
            "</DROMIOight.>\n",
            "\n",
            "<ANTIPHOLUS EPH.>\t<50%>\n",
            "\tAnd here in the pussake! him, he the with deposs poisholess.\n",
            "</ADRIANA>\n",
            "\n",
            "<LUCE>\t<8%>\n",
            "\tWhy mister, and thou art forte.\n",
            "</DROMIO SYR.>\n",
            "\n",
            "<ANGELO>\t<81%>\n",
            "\tI am then garmeAnts, and beater.\n",
            "</DROMIO EPH.>\n",
            "\n",
            "<ADRIANA>\t<21%>\n",
            "\tAs he is as augainting? I am and bje.\n",
            "</DROMIO SYR.>\n",
            "\n",
            "<ADRIANA>\t<60%>\n",
            "\tMaster: I have the Plake almand in fiery:\n",
            "\tWhich istress the dacrisorry, my must, Antobort;\n",
            "\tYou know strudge it upon our of syetund fuce putcomily:\n",
            "\tIs will thou camerd's well.acove?\n",
            "</ANTIPHOLUS SYR.>\n",
            "\n",
            "<DROMIO SERR.>\t<62%>\n",
            "\tIt found to us in ask.\n",
            "</ANTIPHOLUS EPH.>\n",
            "\n",
            "<DROMIO EPH.>\t<36%>\n",
            "<STAGE DIR>\n",
            "\tThen I thad: he hearnst me humhnot heasw.\n",
            "</DROMIO SYR.>\n",
            "\n",
            "<ANGELO>\t<55%>\n",
            "\tI am hip is miclainury! old me, an yet none?\n",
            "</ANGELO>\n",
            "\n",
            "<MERCHANT>\t<77%>\n",
            "\tI  'my defoul not in my head; let him or holy boornsty, sir, or or viery,' will have wed.' 'y seay, 'my heastet;\n",
            "\tThat intolust yet; fool, fair is by inscudesty.\n",
            "</DROMIO SYR.>\n",
            "\n",
            "<ANTIPHOLUS EPH.>\t<38%>\n",
            "\tYour work thy false more, agst, my taked;\n",
            "\tAnd may forsworion, that they this 'reeft of a rechinger born.\n",
            "</ADRIANA>\n",
            "\n",
            "<DROMIO SYR.>\t<64%>\n",
            "\tMy mistrest, fire and quartent againsty.\n",
            "</DROMIO EPH.>\n",
            "\n",
            "<ADRIANA>\t<12%>\n",
            "\tBe thim.\n",
            "</DROMIO EPH.>\n",
            "\n",
            "<ANTIPHOLUS EPH.>\t<51%>\n",
            "\tI, see; sir, signis! hold great friend\n",
            "\tBy your lock look be sennows mar, bread on the conjurers,\n",
            "\tAnd wind makents with in my as wind.\n",
            "</ANTIPHOLUS SYR.>\n",
            "\n",
            "<DROMIO SYR.>\t<24%>\n",
            "\tThere she whence.seek;send I lost it:\n",
            "\tInle it witleest, and an against to ruashed;\n",
            "\tAnd ire a habst us, he is oncess,\n",
            "\tAnd then; is drishop now, him in, bellipt, I chame to my creed,\n",
            "\tBeince deity thatful mine and will becturent\n",
            "\tIf not your not harge mastery usbing in oses-spadneds.\n",
            "</DROMIO EPH.>\n",
            "\n",
            "<ADRIANA>\t<59%>\n",
            "\tWhere's had six'd? the set bleforreoce,\n",
            "\tAnd nature, I pradray arrested\n",
            "\tGood bitlest thou fors, say me; for formen;\n",
            "\tElse her-sing your have bringer; and that she t\n"
          ]
        }
      ]
    }
  ]
}
